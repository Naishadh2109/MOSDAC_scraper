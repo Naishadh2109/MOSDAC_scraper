{
 "cells": [
  {
   "cell_type": "markdown",
   "metadata": {},
   "source": [
    "## Installing dependencies"
   ]
  },
  {
   "cell_type": "code",
   "execution_count": 1,
   "metadata": {},
   "outputs": [
    {
     "name": "stdout",
     "output_type": "stream",
     "text": [
      "Requirement already satisfied: selenium in c:\\users\\naish\\appdata\\local\\programs\\python\\python313\\lib\\site-packages (4.27.1)Note: you may need to restart the kernel to use updated packages.\n",
      "\n",
      "Requirement already satisfied: urllib3<3,>=1.26 in c:\\users\\naish\\appdata\\local\\programs\\python\\python313\\lib\\site-packages (from urllib3[socks]<3,>=1.26->selenium) (2.3.0)\n",
      "Requirement already satisfied: trio~=0.17 in c:\\users\\naish\\appdata\\local\\programs\\python\\python313\\lib\\site-packages (from selenium) (0.28.0)\n",
      "Requirement already satisfied: trio-websocket~=0.9 in c:\\users\\naish\\appdata\\local\\programs\\python\\python313\\lib\\site-packages (from selenium) (0.11.1)\n",
      "Requirement already satisfied: certifi>=2021.10.8 in c:\\users\\naish\\appdata\\local\\programs\\python\\python313\\lib\\site-packages (from selenium) (2024.12.14)\n",
      "Requirement already satisfied: typing_extensions~=4.9 in c:\\users\\naish\\appdata\\local\\programs\\python\\python313\\lib\\site-packages (from selenium) (4.12.2)\n",
      "Requirement already satisfied: websocket-client~=1.8 in c:\\users\\naish\\appdata\\local\\programs\\python\\python313\\lib\\site-packages (from selenium) (1.8.0)\n",
      "Requirement already satisfied: attrs>=23.2.0 in c:\\users\\naish\\appdata\\local\\programs\\python\\python313\\lib\\site-packages (from trio~=0.17->selenium) (24.3.0)\n",
      "Requirement already satisfied: sortedcontainers in c:\\users\\naish\\appdata\\local\\programs\\python\\python313\\lib\\site-packages (from trio~=0.17->selenium) (2.4.0)\n",
      "Requirement already satisfied: idna in c:\\users\\naish\\appdata\\local\\programs\\python\\python313\\lib\\site-packages (from trio~=0.17->selenium) (3.10)\n",
      "Requirement already satisfied: outcome in c:\\users\\naish\\appdata\\local\\programs\\python\\python313\\lib\\site-packages (from trio~=0.17->selenium) (1.3.0.post0)\n",
      "Requirement already satisfied: sniffio>=1.3.0 in c:\\users\\naish\\appdata\\local\\programs\\python\\python313\\lib\\site-packages (from trio~=0.17->selenium) (1.3.1)\n",
      "Requirement already satisfied: cffi>=1.14 in c:\\users\\naish\\appdata\\local\\programs\\python\\python313\\lib\\site-packages (from trio~=0.17->selenium) (1.17.1)\n",
      "Requirement already satisfied: wsproto>=0.14 in c:\\users\\naish\\appdata\\local\\programs\\python\\python313\\lib\\site-packages (from trio-websocket~=0.9->selenium) (1.2.0)\n",
      "Requirement already satisfied: pysocks!=1.5.7,<2.0,>=1.5.6 in c:\\users\\naish\\appdata\\local\\programs\\python\\python313\\lib\\site-packages (from urllib3[socks]<3,>=1.26->selenium) (1.7.1)\n",
      "Requirement already satisfied: pycparser in c:\\users\\naish\\appdata\\local\\programs\\python\\python313\\lib\\site-packages (from cffi>=1.14->trio~=0.17->selenium) (2.22)\n",
      "Requirement already satisfied: h11<1,>=0.9.0 in c:\\users\\naish\\appdata\\local\\programs\\python\\python313\\lib\\site-packages (from wsproto>=0.14->trio-websocket~=0.9->selenium) (0.14.0)\n"
     ]
    }
   ],
   "source": [
    "%pip install selenium"
   ]
  },
  {
   "cell_type": "markdown",
   "metadata": {},
   "source": [
    "### importing selenium"
   ]
  },
  {
   "cell_type": "code",
   "execution_count": 2,
   "metadata": {},
   "outputs": [],
   "source": [
    "from selenium import webdriver\n",
    "from selenium.webdriver.common.keys import Keys\n",
    "from selenium.webdriver.support import expected_conditions as EC\n",
    "from selenium.webdriver.common.by import By\n",
    "from selenium.webdriver.support.wait import WebDriverWait\n",
    "from selenium.webdriver.chrome.service import Service"
   ]
  },
  {
   "cell_type": "markdown",
   "metadata": {},
   "source": [
    "###Other imports here"
   ]
  },
  {
   "cell_type": "code",
   "execution_count": 3,
   "metadata": {},
   "outputs": [
    {
     "name": "stdout",
     "output_type": "stream",
     "text": [
      "Requirement already satisfied: webdriver_manager in c:\\users\\naish\\appdata\\local\\programs\\python\\python313\\lib\\site-packages (4.0.2)Note: you may need to restart the kernel to use updated packages.\n",
      "\n",
      "Requirement already satisfied: requests in c:\\users\\naish\\appdata\\local\\programs\\python\\python313\\lib\\site-packages (from webdriver_manager) (2.32.3)\n",
      "Requirement already satisfied: python-dotenv in c:\\users\\naish\\appdata\\local\\programs\\python\\python313\\lib\\site-packages (from webdriver_manager) (1.0.1)\n",
      "Requirement already satisfied: packaging in c:\\users\\naish\\appdata\\local\\programs\\python\\python313\\lib\\site-packages (from webdriver_manager) (24.2)\n",
      "Requirement already satisfied: charset-normalizer<4,>=2 in c:\\users\\naish\\appdata\\local\\programs\\python\\python313\\lib\\site-packages (from requests->webdriver_manager) (3.4.1)\n",
      "Requirement already satisfied: idna<4,>=2.5 in c:\\users\\naish\\appdata\\local\\programs\\python\\python313\\lib\\site-packages (from requests->webdriver_manager) (3.10)\n",
      "Requirement already satisfied: urllib3<3,>=1.21.1 in c:\\users\\naish\\appdata\\local\\programs\\python\\python313\\lib\\site-packages (from requests->webdriver_manager) (2.3.0)\n",
      "Requirement already satisfied: certifi>=2017.4.17 in c:\\users\\naish\\appdata\\local\\programs\\python\\python313\\lib\\site-packages (from requests->webdriver_manager) (2024.12.14)\n",
      "Requirement already satisfied: wget in c:\\users\\naish\\appdata\\local\\programs\\python\\python313\\lib\\site-packages (3.2)\n",
      "Note: you may need to restart the kernel to use updated packages.\n"
     ]
    }
   ],
   "source": [
    "%pip install webdriver_manager\n",
    "%pip install wget"
   ]
  },
  {
   "cell_type": "code",
   "execution_count": 4,
   "metadata": {},
   "outputs": [],
   "source": [
    "import os\n",
    "import wget\n",
    "import time\n",
    "import json\n",
    "from urllib.parse import urljoin\n",
    "from webdriver_manager.chrome import ChromeDriverManager"
   ]
  },
  {
   "cell_type": "markdown",
   "metadata": {},
   "source": [
    "chromeDriver Path\n"
   ]
  },
  {
   "cell_type": "code",
   "execution_count": 11,
   "metadata": {},
   "outputs": [],
   "source": [
    "chrome_driver_path = r\"C:\\Users\\Chetan\\chromedriver-win32\\chromedriver.exe\""
   ]
  },
  {
   "cell_type": "code",
   "execution_count": 5,
   "metadata": {},
   "outputs": [
    {
     "ename": "KeyboardInterrupt",
     "evalue": "",
     "output_type": "error",
     "traceback": [
      "\u001b[1;31m---------------------------------------------------------------------------\u001b[0m",
      "\u001b[1;31mKeyboardInterrupt\u001b[0m                         Traceback (most recent call last)",
      "Cell \u001b[1;32mIn[5], line 1\u001b[0m\n\u001b[1;32m----> 1\u001b[0m service \u001b[38;5;241m=\u001b[39m Service(\u001b[43mChromeDriverManager\u001b[49m\u001b[43m(\u001b[49m\u001b[43m)\u001b[49m\u001b[38;5;241;43m.\u001b[39;49m\u001b[43minstall\u001b[49m\u001b[43m(\u001b[49m\u001b[43m)\u001b[49m)\n\u001b[0;32m      2\u001b[0m driver \u001b[38;5;241m=\u001b[39m webdriver\u001b[38;5;241m.\u001b[39mChrome(service\u001b[38;5;241m=\u001b[39mservice)\n\u001b[0;32m      4\u001b[0m missions \u001b[38;5;241m=\u001b[39m [\u001b[38;5;124m\"\u001b[39m\u001b[38;5;124minsat-3d\u001b[39m\u001b[38;5;124m\"\u001b[39m, \u001b[38;5;124m\"\u001b[39m\u001b[38;5;124minsat-3dr\u001b[39m\u001b[38;5;124m\"\u001b[39m,\u001b[38;5;124m\"\u001b[39m\u001b[38;5;124mmegha-tropiques\u001b[39m\u001b[38;5;124m\"\u001b[39m, \u001b[38;5;124m\"\u001b[39m\u001b[38;5;124mscatsat-1\u001b[39m\u001b[38;5;124m\"\u001b[39m, \u001b[38;5;124m\"\u001b[39m\u001b[38;5;124mkalpana-1\u001b[39m\u001b[38;5;124m\"\u001b[39m, \u001b[38;5;124m\"\u001b[39m\u001b[38;5;124msaral-altika\u001b[39m\u001b[38;5;124m\"\u001b[39m, \u001b[38;5;124m\"\u001b[39m\u001b[38;5;124moceansat-2\u001b[39m\u001b[38;5;124m\"\u001b[39m, \u001b[38;5;124m\"\u001b[39m\u001b[38;5;124moceansat-3\u001b[39m\u001b[38;5;124m\"\u001b[39m]\n",
      "File \u001b[1;32mc:\\Users\\naish\\AppData\\Local\\Programs\\Python\\Python313\\Lib\\site-packages\\webdriver_manager\\chrome.py:40\u001b[0m, in \u001b[0;36mChromeDriverManager.install\u001b[1;34m(self)\u001b[0m\n\u001b[0;32m     39\u001b[0m \u001b[38;5;28;01mdef\u001b[39;00m \u001b[38;5;21minstall\u001b[39m(\u001b[38;5;28mself\u001b[39m) \u001b[38;5;241m-\u001b[39m\u001b[38;5;241m>\u001b[39m \u001b[38;5;28mstr\u001b[39m:\n\u001b[1;32m---> 40\u001b[0m     driver_path \u001b[38;5;241m=\u001b[39m \u001b[38;5;28;43mself\u001b[39;49m\u001b[38;5;241;43m.\u001b[39;49m\u001b[43m_get_driver_binary_path\u001b[49m\u001b[43m(\u001b[49m\u001b[38;5;28;43mself\u001b[39;49m\u001b[38;5;241;43m.\u001b[39;49m\u001b[43mdriver\u001b[49m\u001b[43m)\u001b[49m\n\u001b[0;32m     41\u001b[0m     os\u001b[38;5;241m.\u001b[39mchmod(driver_path, \u001b[38;5;241m0o755\u001b[39m)\n\u001b[0;32m     42\u001b[0m     \u001b[38;5;28;01mreturn\u001b[39;00m driver_path\n",
      "File \u001b[1;32mc:\\Users\\naish\\AppData\\Local\\Programs\\Python\\Python313\\Lib\\site-packages\\webdriver_manager\\core\\manager.py:35\u001b[0m, in \u001b[0;36mDriverManager._get_driver_binary_path\u001b[1;34m(self, driver)\u001b[0m\n\u001b[0;32m     34\u001b[0m \u001b[38;5;28;01mdef\u001b[39;00m \u001b[38;5;21m_get_driver_binary_path\u001b[39m(\u001b[38;5;28mself\u001b[39m, driver):\n\u001b[1;32m---> 35\u001b[0m     binary_path \u001b[38;5;241m=\u001b[39m \u001b[38;5;28;43mself\u001b[39;49m\u001b[38;5;241;43m.\u001b[39;49m\u001b[43m_cache_manager\u001b[49m\u001b[38;5;241;43m.\u001b[39;49m\u001b[43mfind_driver\u001b[49m\u001b[43m(\u001b[49m\u001b[43mdriver\u001b[49m\u001b[43m)\u001b[49m\n\u001b[0;32m     36\u001b[0m     \u001b[38;5;28;01mif\u001b[39;00m binary_path:\n\u001b[0;32m     37\u001b[0m         \u001b[38;5;28;01mreturn\u001b[39;00m binary_path\n",
      "File \u001b[1;32mc:\\Users\\naish\\AppData\\Local\\Programs\\Python\\Python313\\Lib\\site-packages\\webdriver_manager\\core\\driver_cache.py:103\u001b[0m, in \u001b[0;36mDriverCacheManager.find_driver\u001b[1;34m(self, driver)\u001b[0m\n\u001b[0;32m    101\u001b[0m driver_name \u001b[38;5;241m=\u001b[39m driver\u001b[38;5;241m.\u001b[39mget_name()\n\u001b[0;32m    102\u001b[0m browser_type \u001b[38;5;241m=\u001b[39m driver\u001b[38;5;241m.\u001b[39mget_browser_type()\n\u001b[1;32m--> 103\u001b[0m browser_version \u001b[38;5;241m=\u001b[39m \u001b[38;5;28;43mself\u001b[39;49m\u001b[38;5;241;43m.\u001b[39;49m\u001b[43m_os_system_manager\u001b[49m\u001b[38;5;241;43m.\u001b[39;49m\u001b[43mget_browser_version_from_os\u001b[49m\u001b[43m(\u001b[49m\u001b[43mbrowser_type\u001b[49m\u001b[43m)\u001b[49m\n\u001b[0;32m    104\u001b[0m \u001b[38;5;28;01mif\u001b[39;00m \u001b[38;5;129;01mnot\u001b[39;00m browser_version:\n\u001b[0;32m    105\u001b[0m     \u001b[38;5;28;01mreturn\u001b[39;00m \u001b[38;5;28;01mNone\u001b[39;00m\n",
      "File \u001b[1;32mc:\\Users\\naish\\AppData\\Local\\Programs\\Python\\Python313\\Lib\\site-packages\\webdriver_manager\\core\\os_manager.py:159\u001b[0m, in \u001b[0;36mOperationSystemManager.get_browser_version_from_os\u001b[1;34m(self, browser_type)\u001b[0m\n\u001b[0;32m    157\u001b[0m     cmd_mapping \u001b[38;5;241m=\u001b[39m cmd_mapping[browser_type][OperationSystemManager\u001b[38;5;241m.\u001b[39mget_os_name()]\n\u001b[0;32m    158\u001b[0m     pattern \u001b[38;5;241m=\u001b[39m PATTERN[browser_type]\n\u001b[1;32m--> 159\u001b[0m     version \u001b[38;5;241m=\u001b[39m \u001b[43mread_version_from_cmd\u001b[49m\u001b[43m(\u001b[49m\u001b[43mcmd_mapping\u001b[49m\u001b[43m,\u001b[49m\u001b[43m \u001b[49m\u001b[43mpattern\u001b[49m\u001b[43m)\u001b[49m\n\u001b[0;32m    160\u001b[0m     \u001b[38;5;28;01mreturn\u001b[39;00m version\n\u001b[0;32m    161\u001b[0m \u001b[38;5;28;01mexcept\u001b[39;00m \u001b[38;5;167;01mException\u001b[39;00m:\n",
      "File \u001b[1;32mc:\\Users\\naish\\AppData\\Local\\Programs\\Python\\Python313\\Lib\\site-packages\\webdriver_manager\\core\\utils.py:46\u001b[0m, in \u001b[0;36mread_version_from_cmd\u001b[1;34m(cmd, pattern)\u001b[0m\n\u001b[0;32m     38\u001b[0m \u001b[38;5;28;01mdef\u001b[39;00m \u001b[38;5;21mread_version_from_cmd\u001b[39m(cmd, pattern):\n\u001b[0;32m     39\u001b[0m     \u001b[38;5;28;01mwith\u001b[39;00m subprocess\u001b[38;5;241m.\u001b[39mPopen(\n\u001b[0;32m     40\u001b[0m             cmd,\n\u001b[0;32m     41\u001b[0m             stdout\u001b[38;5;241m=\u001b[39msubprocess\u001b[38;5;241m.\u001b[39mPIPE,\n\u001b[1;32m   (...)\u001b[0m\n\u001b[0;32m     44\u001b[0m             shell\u001b[38;5;241m=\u001b[39m\u001b[38;5;28;01mTrue\u001b[39;00m,\n\u001b[0;32m     45\u001b[0m     ) \u001b[38;5;28;01mas\u001b[39;00m stream:\n\u001b[1;32m---> 46\u001b[0m         stdout \u001b[38;5;241m=\u001b[39m \u001b[43mstream\u001b[49m\u001b[38;5;241;43m.\u001b[39;49m\u001b[43mcommunicate\u001b[49m\u001b[43m(\u001b[49m\u001b[43m)\u001b[49m[\u001b[38;5;241m0\u001b[39m]\u001b[38;5;241m.\u001b[39mdecode()\n\u001b[0;32m     47\u001b[0m         version \u001b[38;5;241m=\u001b[39m re\u001b[38;5;241m.\u001b[39msearch(pattern, stdout)\n\u001b[0;32m     48\u001b[0m         version \u001b[38;5;241m=\u001b[39m version\u001b[38;5;241m.\u001b[39mgroup(\u001b[38;5;241m0\u001b[39m) \u001b[38;5;28;01mif\u001b[39;00m version \u001b[38;5;28;01melse\u001b[39;00m \u001b[38;5;28;01mNone\u001b[39;00m\n",
      "File \u001b[1;32mc:\\Users\\naish\\AppData\\Local\\Programs\\Python\\Python313\\Lib\\subprocess.py:1206\u001b[0m, in \u001b[0;36mPopen.communicate\u001b[1;34m(self, input, timeout)\u001b[0m\n\u001b[0;32m   1204\u001b[0m     \u001b[38;5;28mself\u001b[39m\u001b[38;5;241m.\u001b[39m_stdin_write(\u001b[38;5;28minput\u001b[39m)\n\u001b[0;32m   1205\u001b[0m \u001b[38;5;28;01melif\u001b[39;00m \u001b[38;5;28mself\u001b[39m\u001b[38;5;241m.\u001b[39mstdout:\n\u001b[1;32m-> 1206\u001b[0m     stdout \u001b[38;5;241m=\u001b[39m \u001b[38;5;28;43mself\u001b[39;49m\u001b[38;5;241;43m.\u001b[39;49m\u001b[43mstdout\u001b[49m\u001b[38;5;241;43m.\u001b[39;49m\u001b[43mread\u001b[49m\u001b[43m(\u001b[49m\u001b[43m)\u001b[49m\n\u001b[0;32m   1207\u001b[0m     \u001b[38;5;28mself\u001b[39m\u001b[38;5;241m.\u001b[39mstdout\u001b[38;5;241m.\u001b[39mclose()\n\u001b[0;32m   1208\u001b[0m \u001b[38;5;28;01melif\u001b[39;00m \u001b[38;5;28mself\u001b[39m\u001b[38;5;241m.\u001b[39mstderr:\n",
      "\u001b[1;31mKeyboardInterrupt\u001b[0m: "
     ]
    }
   ],
   "source": [
    "service = Service(ChromeDriverManager().install())\n",
    "driver = webdriver.Chrome(service=service)\n",
    "\n",
    "missions = [\"insat-3d\", \"insat-3dr\",\"megha-tropiques\", \"scatsat-1\", \"kalpana-1\", \"saral-altika\", \"oceansat-2\", \"oceansat-3\"]\n",
    "mission_subpages = [\"introduction\", \"objectives\", \"spacecraft\", \"payloads\", \"references\"]\n",
    "\n",
    "# Base URL\n",
    "base_url = \"https://www.mosdac.gov.in\"\n",
    "pdf_icon_url = \"https://www.mosdac.gov.in/images/PDF.gif\"\n",
    "\n",
    "# Dictionary to store extracted data\n",
    "mission_data_store = {}\n",
    "\n",
    "# for _ in range(1):\n",
    "for mission in missions:\n",
    "    mission_url = f\"{base_url}/{mission}\"\n",
    "    driver.get(mission_url)\n",
    "    # driver.get(\"https://www.mosdac.gov.in/\"+missions[6])\n",
    "    \n",
    "    try:\n",
    "        # Wait for the content area to load\n",
    "        content_area = WebDriverWait(driver, 10).until(\n",
    "            EC.presence_of_element_located((By.CSS_SELECTOR, \".field-item.even\"))\n",
    "        )\n",
    "        print(f\"Element found for: {mission}\")\n",
    "\n",
    "        # Extract data from the main mission page\n",
    "        mission_data = {\n",
    "            \"text\": content_area.text,\n",
    "            \"images\": [],\n",
    "            \"tables\": [],\n",
    "            \"pdfs\": []\n",
    "        }\n",
    "\n",
    "        # Extract all images within the section\n",
    "        images = content_area.find_elements(By.TAG_NAME, \"img\")\n",
    "        for img in images:\n",
    "            img_src = urljoin(base_url, img.get_attribute(\"src\"))\n",
    "            if img_src != pdf_icon_url:\n",
    "                mission_data[\"images\"].append(img_src)\n",
    "\n",
    "        # Extract all tables\n",
    "        tables = content_area.find_elements(By.TAG_NAME, \"table\")\n",
    "        for table in tables:\n",
    "            mission_data[\"tables\"].append(table.get_attribute(\"outerHTML\"))  # table parsing will be done later\n",
    "\n",
    "        # Extract all PDF links\n",
    "        pdf_links = content_area.find_elements(By.CSS_SELECTOR, \"p a[href$='.pdf']\")\n",
    "        for pdf in pdf_links:\n",
    "            relative_url = pdf.get_attribute(\"href\")\n",
    "            full_url = urljoin(base_url, relative_url)\n",
    "            mission_data[\"pdfs\"].append(full_url)\n",
    "         \n",
    "         # Store extracted data\n",
    "        mission_data_store[mission] = mission_data\n",
    "    \n",
    "    except Exception as e:\n",
    "        print(f\"Error: Element not found for {mission}: {e}\")\n",
    "\n",
    "    time.sleep(2)\n",
    "    \n",
    "    \n",
    "    # Extract data from subpages\n",
    "    for subpage in mission_subpages:\n",
    "        subpage_url = f\"{base_url}/{mission}-{subpage}\"\n",
    "        driver.get(subpage_url)\n",
    "\n",
    "        try:\n",
    "            # Wait for the content area to load\n",
    "            content_area = WebDriverWait(driver, 10).until(\n",
    "                EC.presence_of_element_located((By.CSS_SELECTOR, \".field-item.even\"))\n",
    "            )\n",
    "            print(f\"Element found for: {mission}-{subpage}\")\n",
    "\n",
    "            # Extract data from the subpage\n",
    "            subpage_data = {\n",
    "                \"text\": content_area.text,\n",
    "                \"images\": [],\n",
    "                \"tables\": [],\n",
    "                \"pdfs\": []\n",
    "            }\n",
    "\n",
    "            # Extract images\n",
    "            images = content_area.find_elements(By.TAG_NAME, \"img\")\n",
    "            for img in images:\n",
    "                img_src = urljoin(base_url, img.get_attribute(\"src\"))\n",
    "                subpage_data[\"images\"].append(img_src)\n",
    "\n",
    "            # Extract tables\n",
    "            tables = content_area.find_elements(By.TAG_NAME, \"table\")\n",
    "            for table in tables:\n",
    "                subpage_data[\"tables\"].append(table.get_attribute(\"outerHTML\"))\n",
    "\n",
    "            # Extract PDF links\n",
    "            pdf_links = content_area.find_elements(By.CSS_SELECTOR, \"p a[href$='.pdf']\")\n",
    "            for pdf in pdf_links:\n",
    "                relative_url = pdf.get_attribute(\"href\")\n",
    "                full_url = urljoin(base_url, relative_url)\n",
    "                subpage_data[\"pdfs\"].append(full_url)\n",
    "\n",
    "            # Store extracted data\n",
    "            mission_data_store[f\"{mission}-{subpage}\"] = subpage_data\n",
    "\n",
    "        except Exception as e:\n",
    "            print(f\"Error: Element not found for {mission}-{subpage}: {e}\")\n",
    "\n",
    "        time.sleep(2)\n",
    "        \n",
    "\n",
    "\n",
    "# Close the browser\n",
    "driver.quit()"
   ]
  },
  {
   "cell_type": "code",
   "execution_count": 15,
   "metadata": {},
   "outputs": [
    {
     "name": "stdout",
     "output_type": "stream",
     "text": [
      "\n",
      "✅ Data extraction completed! Saved as 'mosdac_mission_data.json'.\n"
     ]
    }
   ],
   "source": [
    "with open(\"mosdac_mission_data.json\", \"w\", encoding=\"utf-8\") as json_file:\n",
    "    json.dump(mission_data_store, json_file, ensure_ascii=False, indent=4)\n",
    "\n",
    "print(\"\\n✅ Data extraction completed! Saved as 'mosdac_mission_data.json'.\")"
   ]
  },
  {
   "cell_type": "code",
   "execution_count": 6,
   "metadata": {},
   "outputs": [],
   "source": [
    "from selenium import webdriver\n",
    "from selenium.webdriver.common.by import By\n",
    "from selenium.webdriver.support.ui import Select, WebDriverWait\n",
    "from selenium.webdriver.support import expected_conditions as EC\n",
    "import pandas as pd\n",
    "import time"
   ]
  },
  {
   "cell_type": "code",
   "execution_count": 8,
   "metadata": {},
   "outputs": [
    {
     "name": "stdout",
     "output_type": "stream",
     "text": [
      "Scraped: satellite > EOS-06 > OCM\n",
      "Scraped: satellite > EOS-06 > SCATTEROMETER\n",
      "Scraped: satellite > INSAT-3DR > IMAGER\n",
      "Scraped: satellite > INSAT-3DR > SOUNDER\n",
      "Scraped: satellite > INSAT-3DS > IMAGER\n",
      "Scraped: satellite > INSAT-3DS > SOUNDER\n",
      "Scraped: satellite > SARAL > ALTIMETER\n",
      "Scraped: satellite > EOS-07 > MHS\n",
      "Scraped: satellite > INSAT-3A > CCD\n",
      "Scraped: satellite > INSAT-3A > VHRR\n",
      "Scraped: satellite > INSAT-3D > IMAGER\n",
      "Scraped: satellite > INSAT-3D > SOUNDER\n",
      "Scraped: satellite > KALPANA-1 > VHRR\n",
      "Scraped: satellite > MEGHATROPIQUES > MADRAS\n",
      "Scraped: satellite > MEGHATROPIQUES > ROSA\n",
      "Scraped: satellite > MEGHATROPIQUES > SAPHIR\n",
      "Scraped: satellite > MEGHATROPIQUES > SCARAB\n",
      "Scraped: satellite > OCEANSAT-2 > SCATTEROMETER\n",
      "Scraped: satellite > SCATSAT-1 > SCATTEROMETER\n",
      "Scraped: in-situ > In-situ > AMS\n",
      "Scraped: in-situ > In-situ > AWS\n",
      "Scraped: in-situ > In-situ > AWSAGRI\n",
      "Scraped: in-situ > In-situ > AWSUPG\n",
      "Scraped: in-situ > In-situ > IMDAWS\n",
      "Scraped: radar > RADAR > S BAND DWR CHERRAPUNJI\n",
      "Scraped: radar > RADAR > S BAND DWR SHAR\n",
      "Scraped: radar > RADAR > TERLS C BAND\n"
     ]
    }
   ],
   "source": [
    "driver = webdriver.Chrome()\n",
    "\n",
    "catalog_pages = {\n",
    "    \"satellite\": \"https://www.mosdac.gov.in/catalog/satellite.php\",\n",
    "    \"in-situ\": \"https://www.mosdac.gov.in/catalog/insitu.php\",\n",
    "    \"radar\": \"https://www.mosdac.gov.in/internal/catalog-radar\"\n",
    "}\n",
    "\n",
    "wait = WebDriverWait(driver, 10)\n",
    "\n",
    "data_list = []\n",
    "\n",
    "for category, url in catalog_pages.items():\n",
    "    driver.get(url)\n",
    "    time.sleep(3)\n",
    "\n",
    "# Locate the Satellite dropdown\n",
    "    satellite_dropdown = wait.until(EC.presence_of_element_located((By.NAME, \"satellite\")))  # Update ID\n",
    "    satellite_select = Select(satellite_dropdown)\n",
    "\n",
    "    # Locate the Sensor dropdown\n",
    "    sensor_dropdown = wait.until(EC.presence_of_element_located((By.NAME, \"sensor\")))  # Update ID\n",
    "    sensor_select = Select(sensor_dropdown)\n",
    "\n",
    "    # Loop through each Satellite option\n",
    "    for satellite_option in satellite_select.options:\n",
    "        satellite_name = satellite_option.text.strip()\n",
    "        satellite_option.click()\n",
    "        time.sleep(2)  # Wait for the Sensor dropdown to update\n",
    "\n",
    "        # Loop through each Sensor option\n",
    "        for sensor_option in sensor_select.options:\n",
    "            sensor_name = sensor_option.text.strip()\n",
    "            sensor_option.click()\n",
    "            time.sleep(3)  # Wait for table to update\n",
    "\n",
    "            # Locate table and extract rows\n",
    "            table = wait.until(EC.presence_of_element_located((By.XPATH, '//*[@id=\"tabledata\"]')))  # Update ID\n",
    "            rows = table.find_elements(By.TAG_NAME, \"tr\")\n",
    "\n",
    "            # Extract data from table\n",
    "            for row in rows:\n",
    "                cols = row.find_elements(By.TAG_NAME, \"td\")\n",
    "                if cols:\n",
    "                    row_data = [col.text.strip() for col in cols]\n",
    "                    row_data.insert(0, sensor_name)\n",
    "                    row_data.insert(0, satellite_name)\n",
    "                    row_data.insert(0, category)\n",
    "                    data_list.append(row_data)\n",
    "\n",
    "            print(f\"Scraped: {category} > {satellite_name} > {sensor_name}\")\n",
    "\n",
    "# # Convert to DataFrame and save\n",
    "# df = pd.DataFrame(data_list, columns=[\"Category\", \"Satellite\", \"Sensor\"] + [f\"Col_{i}\" for i in range(len(data_list[0])-3)])\n",
    "# # Convert data to JSON format\n",
    "# json_data = []\n",
    "# for row in data_list:\n",
    "#     json_entry = {\n",
    "#         \"Category\": row[0],\n",
    "#         \"Satellite\": row[1],\n",
    "#         \"Sensor\": row[2],\n",
    "#         \"Data\": row[3:]  # Remaining table columns\n",
    "#     }\n",
    "#     json_data.append(json_entry)\n",
    "\n",
    "# # Save to JSON file\n",
    "# import json\n",
    "# with open(\"mosdac_data.json\", \"w\", encoding=\"utf-8\") as f:\n",
    "#     json.dump(json_data, f, indent=4)\n",
    "\n",
    "# print(\"Scraping Complete! Data saved to mosdac_data.json\")\n",
    "\n",
    "import json\n",
    "\n",
    "# Determine the maximum number of columns in data_list\n",
    "max_cols = max(len(row) for row in data_list)\n",
    "\n",
    "columns = [\n",
    "    \"Sr.No\", \n",
    "    \"Product / Acq Calendar/Version\", \n",
    "    \"Product Description\", \n",
    "    \"Processing Level\", \n",
    "    \"Temporal Resolution\", \n",
    "    \"Start Date\", \n",
    "    \"End Date\", \n",
    "    \"Processing Status\", \n",
    "    \"DOI\"\n",
    "]\n",
    "\n",
    "# Define column names dynamically\n",
    "column_names = [\"Category\", \"Satellite\", \"Sensor\"] + [f\"{column}\" for column in columns]\n",
    "\n",
    "# Pad shorter rows with empty values to match the max column length\n",
    "normalized_data = [row + [\"\"] * (max_cols - len(row)) for row in data_list]\n",
    "\n",
    "# Trim extra columns if scraped data has more than expected\n",
    "normalized_data = [row[:len(column_names)] for row in normalized_data]\n",
    "# Convert to DataFrame\n",
    "df = pd.DataFrame(normalized_data, columns=column_names)\n",
    "\n",
    "# Convert to JSON\n",
    "# json_data = df.to_dict(orient=\"records\")\n",
    "\n",
    "# # Save JSON file\n",
    "# with open(\"mosdac_data.json\", \"w\", encoding=\"utf-8\") as f:\n",
    "#     json.dump(json_data, f, indent=4)\n",
    "\n",
    "\n",
    "# Close driver\n",
    "driver.quit()\n",
    "# print(\"Scraping Complete! Data saved to mosdac_data.json\")  "
   ]
  },
  {
   "cell_type": "code",
   "execution_count": 9,
   "metadata": {},
   "outputs": [
    {
     "name": "stdout",
     "output_type": "stream",
     "text": [
      "Scraping Complete! Data saved to mosdac_data.json\n"
     ]
    }
   ],
   "source": [
    "# Remove empty values from JSON output\n",
    "json_data = []\n",
    "for row in df.to_dict(orient=\"records\"):\n",
    "    cleaned_row = {key: value for key, value in row.items() if value.strip()}  # Remove empty & whitespace-only values\n",
    "    json_data.append(cleaned_row)\n",
    "\n",
    "# Save JSON file\n",
    "with open(\"mosdac_new_data.json\", \"w\", encoding=\"utf-8\") as f:\n",
    "    json.dump(json_data, f, indent=4)\n",
    "\n",
    "print(\"Scraping Complete! Data saved to mosdac_data.json\")"
   ]
  },
  {
   "cell_type": "markdown",
   "metadata": {},
   "source": [
    "Use above version"
   ]
  },
  {
   "cell_type": "code",
   "execution_count": 7,
   "metadata": {},
   "outputs": [],
   "source": [
    "# Remove empty columns from JSON output\n",
    "json_data = []\n",
    "for row in df.to_dict(orient=\"records\"):\n",
    "    cleaned_row = {key: value for key, value in row.items() if value != \"\"}\n",
    "    json_data.append(cleaned_row)\n",
    "\n",
    "# Save JSON file\n",
    "with open(\"mosdac_data.json\", \"w\", encoding=\"utf-8\") as f:\n",
    "    json.dump(json_data, f, indent=4)"
   ]
  }
 ],
 "metadata": {
  "kernelspec": {
   "display_name": "Python 3",
   "language": "python",
   "name": "python3"
  },
  "language_info": {
   "codemirror_mode": {
    "name": "ipython",
    "version": 3
   },
   "file_extension": ".py",
   "mimetype": "text/x-python",
   "name": "python",
   "nbconvert_exporter": "python",
   "pygments_lexer": "ipython3",
   "version": "3.13.1"
  }
 },
 "nbformat": 4,
 "nbformat_minor": 2
}
